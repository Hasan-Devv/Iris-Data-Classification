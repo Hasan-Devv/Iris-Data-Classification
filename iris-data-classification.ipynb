{
 "cells": [
  {
   "cell_type": "code",
   "execution_count": 1,
   "id": "ac8e1cdd",
   "metadata": {
    "_cell_guid": "b1076dfc-b9ad-4769-8c92-a6c4dae69d19",
    "_uuid": "8f2839f25d086af736a60e9eeb907d3b93b6e0e5",
    "execution": {
     "iopub.execute_input": "2024-07-07T18:59:56.264173Z",
     "iopub.status.busy": "2024-07-07T18:59:56.263741Z",
     "iopub.status.idle": "2024-07-07T18:59:57.225771Z",
     "shell.execute_reply": "2024-07-07T18:59:57.224455Z"
    },
    "papermill": {
     "duration": 0.974157,
     "end_time": "2024-07-07T18:59:57.228491",
     "exception": false,
     "start_time": "2024-07-07T18:59:56.254334",
     "status": "completed"
    },
    "tags": []
   },
   "outputs": [
    {
     "name": "stdout",
     "output_type": "stream",
     "text": [
      "/kaggle/input/iris/Iris.csv\n",
      "/kaggle/input/iris/database.sqlite\n"
     ]
    }
   ],
   "source": [
    "# This Python 3 environment comes with many helpful analytics libraries installed\n",
    "# It is defined by the kaggle/python Docker image: https://github.com/kaggle/docker-python\n",
    "# For example, here's several helpful packages to load\n",
    "\n",
    "import numpy as np # linear algebra\n",
    "import pandas as pd # data processing, CSV file I/O (e.g. pd.read_csv)\n",
    "\n",
    "# Input data files are available in the read-only \"../input/\" directory\n",
    "# For example, running this (by clicking run or pressing Shift+Enter) will list all files under the input directory\n",
    "\n",
    "import os\n",
    "for dirname, _, filenames in os.walk('/kaggle/input'):\n",
    "    for filename in filenames:\n",
    "        print(os.path.join(dirname, filename))\n",
    "\n",
    "# You can write up to 20GB to the current directory (/kaggle/working/) that gets preserved as output when you create a version using \"Save & Run All\" \n",
    "# You can also write temporary files to /kaggle/temp/, but they won't be saved outside of the current session"
   ]
  },
  {
   "cell_type": "code",
   "execution_count": 2,
   "id": "012729c6",
   "metadata": {
    "execution": {
     "iopub.execute_input": "2024-07-07T18:59:57.245650Z",
     "iopub.status.busy": "2024-07-07T18:59:57.244624Z",
     "iopub.status.idle": "2024-07-07T18:59:58.717835Z",
     "shell.execute_reply": "2024-07-07T18:59:58.716497Z"
    },
    "papermill": {
     "duration": 1.484704,
     "end_time": "2024-07-07T18:59:58.720675",
     "exception": false,
     "start_time": "2024-07-07T18:59:57.235971",
     "status": "completed"
    },
    "tags": []
   },
   "outputs": [],
   "source": [
    "import pandas as pd\n",
    "import numpy as np\n",
    "import matplotlib.pyplot as plt\n",
    "import seaborn as sns"
   ]
  },
  {
   "cell_type": "code",
   "execution_count": 3,
   "id": "7ac2ff94",
   "metadata": {
    "execution": {
     "iopub.execute_input": "2024-07-07T18:59:58.736444Z",
     "iopub.status.busy": "2024-07-07T18:59:58.736021Z",
     "iopub.status.idle": "2024-07-07T18:59:58.786578Z",
     "shell.execute_reply": "2024-07-07T18:59:58.785452Z"
    },
    "papermill": {
     "duration": 0.06175,
     "end_time": "2024-07-07T18:59:58.789359",
     "exception": false,
     "start_time": "2024-07-07T18:59:58.727609",
     "status": "completed"
    },
    "tags": []
   },
   "outputs": [
    {
     "data": {
      "text/html": [
       "<div>\n",
       "<style scoped>\n",
       "    .dataframe tbody tr th:only-of-type {\n",
       "        vertical-align: middle;\n",
       "    }\n",
       "\n",
       "    .dataframe tbody tr th {\n",
       "        vertical-align: top;\n",
       "    }\n",
       "\n",
       "    .dataframe thead th {\n",
       "        text-align: right;\n",
       "    }\n",
       "</style>\n",
       "<table border=\"1\" class=\"dataframe\">\n",
       "  <thead>\n",
       "    <tr style=\"text-align: right;\">\n",
       "      <th></th>\n",
       "      <th>Id</th>\n",
       "      <th>SepalLengthCm</th>\n",
       "      <th>SepalWidthCm</th>\n",
       "      <th>PetalLengthCm</th>\n",
       "      <th>PetalWidthCm</th>\n",
       "      <th>Species</th>\n",
       "    </tr>\n",
       "  </thead>\n",
       "  <tbody>\n",
       "    <tr>\n",
       "      <th>0</th>\n",
       "      <td>1</td>\n",
       "      <td>5.1</td>\n",
       "      <td>3.5</td>\n",
       "      <td>1.4</td>\n",
       "      <td>0.2</td>\n",
       "      <td>Iris-setosa</td>\n",
       "    </tr>\n",
       "    <tr>\n",
       "      <th>1</th>\n",
       "      <td>2</td>\n",
       "      <td>4.9</td>\n",
       "      <td>3.0</td>\n",
       "      <td>1.4</td>\n",
       "      <td>0.2</td>\n",
       "      <td>Iris-setosa</td>\n",
       "    </tr>\n",
       "    <tr>\n",
       "      <th>2</th>\n",
       "      <td>3</td>\n",
       "      <td>4.7</td>\n",
       "      <td>3.2</td>\n",
       "      <td>1.3</td>\n",
       "      <td>0.2</td>\n",
       "      <td>Iris-setosa</td>\n",
       "    </tr>\n",
       "    <tr>\n",
       "      <th>3</th>\n",
       "      <td>4</td>\n",
       "      <td>4.6</td>\n",
       "      <td>3.1</td>\n",
       "      <td>1.5</td>\n",
       "      <td>0.2</td>\n",
       "      <td>Iris-setosa</td>\n",
       "    </tr>\n",
       "    <tr>\n",
       "      <th>4</th>\n",
       "      <td>5</td>\n",
       "      <td>5.0</td>\n",
       "      <td>3.6</td>\n",
       "      <td>1.4</td>\n",
       "      <td>0.2</td>\n",
       "      <td>Iris-setosa</td>\n",
       "    </tr>\n",
       "  </tbody>\n",
       "</table>\n",
       "</div>"
      ],
      "text/plain": [
       "   Id  SepalLengthCm  SepalWidthCm  PetalLengthCm  PetalWidthCm      Species\n",
       "0   1            5.1           3.5            1.4           0.2  Iris-setosa\n",
       "1   2            4.9           3.0            1.4           0.2  Iris-setosa\n",
       "2   3            4.7           3.2            1.3           0.2  Iris-setosa\n",
       "3   4            4.6           3.1            1.5           0.2  Iris-setosa\n",
       "4   5            5.0           3.6            1.4           0.2  Iris-setosa"
      ]
     },
     "execution_count": 3,
     "metadata": {},
     "output_type": "execute_result"
    }
   ],
   "source": [
    "df = pd.read_csv('/kaggle/input/iris/Iris.csv')\n",
    "df.head()"
   ]
  },
  {
   "cell_type": "code",
   "execution_count": 4,
   "id": "3eebd56c",
   "metadata": {
    "execution": {
     "iopub.execute_input": "2024-07-07T18:59:58.805508Z",
     "iopub.status.busy": "2024-07-07T18:59:58.805112Z",
     "iopub.status.idle": "2024-07-07T18:59:58.819783Z",
     "shell.execute_reply": "2024-07-07T18:59:58.818704Z"
    },
    "papermill": {
     "duration": 0.025905,
     "end_time": "2024-07-07T18:59:58.822363",
     "exception": false,
     "start_time": "2024-07-07T18:59:58.796458",
     "status": "completed"
    },
    "tags": []
   },
   "outputs": [
    {
     "data": {
      "text/plain": [
       "Species\n",
       "Iris-setosa        50\n",
       "Iris-versicolor    50\n",
       "Iris-virginica     50\n",
       "Name: count, dtype: int64"
      ]
     },
     "execution_count": 4,
     "metadata": {},
     "output_type": "execute_result"
    }
   ],
   "source": [
    "df['Species'].value_counts()"
   ]
  },
  {
   "cell_type": "code",
   "execution_count": 5,
   "id": "3e94471f",
   "metadata": {
    "execution": {
     "iopub.execute_input": "2024-07-07T18:59:58.838743Z",
     "iopub.status.busy": "2024-07-07T18:59:58.838299Z",
     "iopub.status.idle": "2024-07-07T18:59:58.850868Z",
     "shell.execute_reply": "2024-07-07T18:59:58.849697Z"
    },
    "papermill": {
     "duration": 0.023784,
     "end_time": "2024-07-07T18:59:58.853543",
     "exception": false,
     "start_time": "2024-07-07T18:59:58.829759",
     "status": "completed"
    },
    "tags": []
   },
   "outputs": [],
   "source": [
    "# converting species to integer categorical values: Iris setosa: 0, Iris versicolor: 1, Iris virginica: 2\n",
    "\n",
    "# convert the column to a categorical column\n",
    "df['Species'] = df['Species'].astype('category')\n",
    "df['Species'] = df['Species'].cat.codes"
   ]
  },
  {
   "cell_type": "code",
   "execution_count": 6,
   "id": "a5b807ed",
   "metadata": {
    "execution": {
     "iopub.execute_input": "2024-07-07T18:59:58.870057Z",
     "iopub.status.busy": "2024-07-07T18:59:58.869649Z",
     "iopub.status.idle": "2024-07-07T18:59:58.885453Z",
     "shell.execute_reply": "2024-07-07T18:59:58.884139Z"
    },
    "papermill": {
     "duration": 0.026979,
     "end_time": "2024-07-07T18:59:58.888063",
     "exception": false,
     "start_time": "2024-07-07T18:59:58.861084",
     "status": "completed"
    },
    "tags": []
   },
   "outputs": [
    {
     "data": {
      "text/html": [
       "<div>\n",
       "<style scoped>\n",
       "    .dataframe tbody tr th:only-of-type {\n",
       "        vertical-align: middle;\n",
       "    }\n",
       "\n",
       "    .dataframe tbody tr th {\n",
       "        vertical-align: top;\n",
       "    }\n",
       "\n",
       "    .dataframe thead th {\n",
       "        text-align: right;\n",
       "    }\n",
       "</style>\n",
       "<table border=\"1\" class=\"dataframe\">\n",
       "  <thead>\n",
       "    <tr style=\"text-align: right;\">\n",
       "      <th></th>\n",
       "      <th>Id</th>\n",
       "      <th>SepalLengthCm</th>\n",
       "      <th>SepalWidthCm</th>\n",
       "      <th>PetalLengthCm</th>\n",
       "      <th>PetalWidthCm</th>\n",
       "      <th>Species</th>\n",
       "    </tr>\n",
       "  </thead>\n",
       "  <tbody>\n",
       "    <tr>\n",
       "      <th>0</th>\n",
       "      <td>1</td>\n",
       "      <td>5.1</td>\n",
       "      <td>3.5</td>\n",
       "      <td>1.4</td>\n",
       "      <td>0.2</td>\n",
       "      <td>0</td>\n",
       "    </tr>\n",
       "    <tr>\n",
       "      <th>1</th>\n",
       "      <td>2</td>\n",
       "      <td>4.9</td>\n",
       "      <td>3.0</td>\n",
       "      <td>1.4</td>\n",
       "      <td>0.2</td>\n",
       "      <td>0</td>\n",
       "    </tr>\n",
       "    <tr>\n",
       "      <th>2</th>\n",
       "      <td>3</td>\n",
       "      <td>4.7</td>\n",
       "      <td>3.2</td>\n",
       "      <td>1.3</td>\n",
       "      <td>0.2</td>\n",
       "      <td>0</td>\n",
       "    </tr>\n",
       "    <tr>\n",
       "      <th>3</th>\n",
       "      <td>4</td>\n",
       "      <td>4.6</td>\n",
       "      <td>3.1</td>\n",
       "      <td>1.5</td>\n",
       "      <td>0.2</td>\n",
       "      <td>0</td>\n",
       "    </tr>\n",
       "    <tr>\n",
       "      <th>4</th>\n",
       "      <td>5</td>\n",
       "      <td>5.0</td>\n",
       "      <td>3.6</td>\n",
       "      <td>1.4</td>\n",
       "      <td>0.2</td>\n",
       "      <td>0</td>\n",
       "    </tr>\n",
       "  </tbody>\n",
       "</table>\n",
       "</div>"
      ],
      "text/plain": [
       "   Id  SepalLengthCm  SepalWidthCm  PetalLengthCm  PetalWidthCm  Species\n",
       "0   1            5.1           3.5            1.4           0.2        0\n",
       "1   2            4.9           3.0            1.4           0.2        0\n",
       "2   3            4.7           3.2            1.3           0.2        0\n",
       "3   4            4.6           3.1            1.5           0.2        0\n",
       "4   5            5.0           3.6            1.4           0.2        0"
      ]
     },
     "execution_count": 6,
     "metadata": {},
     "output_type": "execute_result"
    }
   ],
   "source": [
    "df.head()"
   ]
  },
  {
   "cell_type": "code",
   "execution_count": 7,
   "id": "b303213d",
   "metadata": {
    "execution": {
     "iopub.execute_input": "2024-07-07T18:59:58.905509Z",
     "iopub.status.busy": "2024-07-07T18:59:58.904482Z",
     "iopub.status.idle": "2024-07-07T18:59:58.912565Z",
     "shell.execute_reply": "2024-07-07T18:59:58.911311Z"
    },
    "papermill": {
     "duration": 0.019523,
     "end_time": "2024-07-07T18:59:58.915232",
     "exception": false,
     "start_time": "2024-07-07T18:59:58.895709",
     "status": "completed"
    },
    "tags": []
   },
   "outputs": [],
   "source": [
    "df = df.drop('Id', axis=1)"
   ]
  },
  {
   "cell_type": "code",
   "execution_count": 8,
   "id": "a6de1fe7",
   "metadata": {
    "execution": {
     "iopub.execute_input": "2024-07-07T18:59:58.932239Z",
     "iopub.status.busy": "2024-07-07T18:59:58.931854Z",
     "iopub.status.idle": "2024-07-07T18:59:58.947717Z",
     "shell.execute_reply": "2024-07-07T18:59:58.946421Z"
    },
    "papermill": {
     "duration": 0.027336,
     "end_time": "2024-07-07T18:59:58.950242",
     "exception": false,
     "start_time": "2024-07-07T18:59:58.922906",
     "status": "completed"
    },
    "tags": []
   },
   "outputs": [
    {
     "data": {
      "text/html": [
       "<div>\n",
       "<style scoped>\n",
       "    .dataframe tbody tr th:only-of-type {\n",
       "        vertical-align: middle;\n",
       "    }\n",
       "\n",
       "    .dataframe tbody tr th {\n",
       "        vertical-align: top;\n",
       "    }\n",
       "\n",
       "    .dataframe thead th {\n",
       "        text-align: right;\n",
       "    }\n",
       "</style>\n",
       "<table border=\"1\" class=\"dataframe\">\n",
       "  <thead>\n",
       "    <tr style=\"text-align: right;\">\n",
       "      <th></th>\n",
       "      <th>SepalLengthCm</th>\n",
       "      <th>SepalWidthCm</th>\n",
       "      <th>PetalLengthCm</th>\n",
       "      <th>PetalWidthCm</th>\n",
       "      <th>Species</th>\n",
       "    </tr>\n",
       "  </thead>\n",
       "  <tbody>\n",
       "    <tr>\n",
       "      <th>0</th>\n",
       "      <td>5.1</td>\n",
       "      <td>3.5</td>\n",
       "      <td>1.4</td>\n",
       "      <td>0.2</td>\n",
       "      <td>0</td>\n",
       "    </tr>\n",
       "    <tr>\n",
       "      <th>1</th>\n",
       "      <td>4.9</td>\n",
       "      <td>3.0</td>\n",
       "      <td>1.4</td>\n",
       "      <td>0.2</td>\n",
       "      <td>0</td>\n",
       "    </tr>\n",
       "    <tr>\n",
       "      <th>2</th>\n",
       "      <td>4.7</td>\n",
       "      <td>3.2</td>\n",
       "      <td>1.3</td>\n",
       "      <td>0.2</td>\n",
       "      <td>0</td>\n",
       "    </tr>\n",
       "    <tr>\n",
       "      <th>3</th>\n",
       "      <td>4.6</td>\n",
       "      <td>3.1</td>\n",
       "      <td>1.5</td>\n",
       "      <td>0.2</td>\n",
       "      <td>0</td>\n",
       "    </tr>\n",
       "    <tr>\n",
       "      <th>4</th>\n",
       "      <td>5.0</td>\n",
       "      <td>3.6</td>\n",
       "      <td>1.4</td>\n",
       "      <td>0.2</td>\n",
       "      <td>0</td>\n",
       "    </tr>\n",
       "  </tbody>\n",
       "</table>\n",
       "</div>"
      ],
      "text/plain": [
       "   SepalLengthCm  SepalWidthCm  PetalLengthCm  PetalWidthCm  Species\n",
       "0            5.1           3.5            1.4           0.2        0\n",
       "1            4.9           3.0            1.4           0.2        0\n",
       "2            4.7           3.2            1.3           0.2        0\n",
       "3            4.6           3.1            1.5           0.2        0\n",
       "4            5.0           3.6            1.4           0.2        0"
      ]
     },
     "execution_count": 8,
     "metadata": {},
     "output_type": "execute_result"
    }
   ],
   "source": [
    "df.head()"
   ]
  },
  {
   "cell_type": "code",
   "execution_count": null,
   "id": "6898c488",
   "metadata": {
    "papermill": {
     "duration": 0.007397,
     "end_time": "2024-07-07T18:59:58.965323",
     "exception": false,
     "start_time": "2024-07-07T18:59:58.957926",
     "status": "completed"
    },
    "tags": []
   },
   "outputs": [],
   "source": []
  },
  {
   "cell_type": "code",
   "execution_count": 9,
   "id": "1a2d3ec4",
   "metadata": {
    "execution": {
     "iopub.execute_input": "2024-07-07T18:59:58.982575Z",
     "iopub.status.busy": "2024-07-07T18:59:58.982134Z",
     "iopub.status.idle": "2024-07-07T18:59:58.988644Z",
     "shell.execute_reply": "2024-07-07T18:59:58.987434Z"
    },
    "papermill": {
     "duration": 0.018093,
     "end_time": "2024-07-07T18:59:58.991103",
     "exception": false,
     "start_time": "2024-07-07T18:59:58.973010",
     "status": "completed"
    },
    "tags": []
   },
   "outputs": [],
   "source": [
    "X = df.drop('Species', axis=1)\n",
    "y = df['Species']"
   ]
  },
  {
   "cell_type": "code",
   "execution_count": 10,
   "id": "30b47b58",
   "metadata": {
    "execution": {
     "iopub.execute_input": "2024-07-07T18:59:59.008950Z",
     "iopub.status.busy": "2024-07-07T18:59:59.008535Z",
     "iopub.status.idle": "2024-07-07T18:59:59.374727Z",
     "shell.execute_reply": "2024-07-07T18:59:59.373578Z"
    },
    "papermill": {
     "duration": 0.37856,
     "end_time": "2024-07-07T18:59:59.377479",
     "exception": false,
     "start_time": "2024-07-07T18:59:58.998919",
     "status": "completed"
    },
    "tags": []
   },
   "outputs": [],
   "source": [
    "from sklearn.model_selection import train_test_split\n",
    "X_train, X_test, y_train, y_test = train_test_split(X, y, train_size=0.70, test_size=0.30)"
   ]
  },
  {
   "cell_type": "code",
   "execution_count": 11,
   "id": "9912b87c",
   "metadata": {
    "execution": {
     "iopub.execute_input": "2024-07-07T18:59:59.395160Z",
     "iopub.status.busy": "2024-07-07T18:59:59.394696Z",
     "iopub.status.idle": "2024-07-07T18:59:59.403324Z",
     "shell.execute_reply": "2024-07-07T18:59:59.402210Z"
    },
    "papermill": {
     "duration": 0.020564,
     "end_time": "2024-07-07T18:59:59.405984",
     "exception": false,
     "start_time": "2024-07-07T18:59:59.385420",
     "status": "completed"
    },
    "tags": []
   },
   "outputs": [
    {
     "data": {
      "text/plain": [
       "60     1\n",
       "94     1\n",
       "17     0\n",
       "68     1\n",
       "63     1\n",
       "      ..\n",
       "144    2\n",
       "64     1\n",
       "123    2\n",
       "10     0\n",
       "91     1\n",
       "Name: Species, Length: 105, dtype: int8"
      ]
     },
     "execution_count": 11,
     "metadata": {},
     "output_type": "execute_result"
    }
   ],
   "source": [
    "y_train"
   ]
  },
  {
   "cell_type": "code",
   "execution_count": 12,
   "id": "a5f31e3d",
   "metadata": {
    "execution": {
     "iopub.execute_input": "2024-07-07T18:59:59.423552Z",
     "iopub.status.busy": "2024-07-07T18:59:59.423122Z",
     "iopub.status.idle": "2024-07-07T18:59:59.921333Z",
     "shell.execute_reply": "2024-07-07T18:59:59.920138Z"
    },
    "papermill": {
     "duration": 0.51007,
     "end_time": "2024-07-07T18:59:59.923996",
     "exception": false,
     "start_time": "2024-07-07T18:59:59.413926",
     "status": "completed"
    },
    "tags": []
   },
   "outputs": [
    {
     "data": {
      "text/html": [
       "<style>#sk-container-id-1 {color: black;background-color: white;}#sk-container-id-1 pre{padding: 0;}#sk-container-id-1 div.sk-toggleable {background-color: white;}#sk-container-id-1 label.sk-toggleable__label {cursor: pointer;display: block;width: 100%;margin-bottom: 0;padding: 0.3em;box-sizing: border-box;text-align: center;}#sk-container-id-1 label.sk-toggleable__label-arrow:before {content: \"▸\";float: left;margin-right: 0.25em;color: #696969;}#sk-container-id-1 label.sk-toggleable__label-arrow:hover:before {color: black;}#sk-container-id-1 div.sk-estimator:hover label.sk-toggleable__label-arrow:before {color: black;}#sk-container-id-1 div.sk-toggleable__content {max-height: 0;max-width: 0;overflow: hidden;text-align: left;background-color: #f0f8ff;}#sk-container-id-1 div.sk-toggleable__content pre {margin: 0.2em;color: black;border-radius: 0.25em;background-color: #f0f8ff;}#sk-container-id-1 input.sk-toggleable__control:checked~div.sk-toggleable__content {max-height: 200px;max-width: 100%;overflow: auto;}#sk-container-id-1 input.sk-toggleable__control:checked~label.sk-toggleable__label-arrow:before {content: \"▾\";}#sk-container-id-1 div.sk-estimator input.sk-toggleable__control:checked~label.sk-toggleable__label {background-color: #d4ebff;}#sk-container-id-1 div.sk-label input.sk-toggleable__control:checked~label.sk-toggleable__label {background-color: #d4ebff;}#sk-container-id-1 input.sk-hidden--visually {border: 0;clip: rect(1px 1px 1px 1px);clip: rect(1px, 1px, 1px, 1px);height: 1px;margin: -1px;overflow: hidden;padding: 0;position: absolute;width: 1px;}#sk-container-id-1 div.sk-estimator {font-family: monospace;background-color: #f0f8ff;border: 1px dotted black;border-radius: 0.25em;box-sizing: border-box;margin-bottom: 0.5em;}#sk-container-id-1 div.sk-estimator:hover {background-color: #d4ebff;}#sk-container-id-1 div.sk-parallel-item::after {content: \"\";width: 100%;border-bottom: 1px solid gray;flex-grow: 1;}#sk-container-id-1 div.sk-label:hover label.sk-toggleable__label {background-color: #d4ebff;}#sk-container-id-1 div.sk-serial::before {content: \"\";position: absolute;border-left: 1px solid gray;box-sizing: border-box;top: 0;bottom: 0;left: 50%;z-index: 0;}#sk-container-id-1 div.sk-serial {display: flex;flex-direction: column;align-items: center;background-color: white;padding-right: 0.2em;padding-left: 0.2em;position: relative;}#sk-container-id-1 div.sk-item {position: relative;z-index: 1;}#sk-container-id-1 div.sk-parallel {display: flex;align-items: stretch;justify-content: center;background-color: white;position: relative;}#sk-container-id-1 div.sk-item::before, #sk-container-id-1 div.sk-parallel-item::before {content: \"\";position: absolute;border-left: 1px solid gray;box-sizing: border-box;top: 0;bottom: 0;left: 50%;z-index: -1;}#sk-container-id-1 div.sk-parallel-item {display: flex;flex-direction: column;z-index: 1;position: relative;background-color: white;}#sk-container-id-1 div.sk-parallel-item:first-child::after {align-self: flex-end;width: 50%;}#sk-container-id-1 div.sk-parallel-item:last-child::after {align-self: flex-start;width: 50%;}#sk-container-id-1 div.sk-parallel-item:only-child::after {width: 0;}#sk-container-id-1 div.sk-dashed-wrapped {border: 1px dashed gray;margin: 0 0.4em 0.5em 0.4em;box-sizing: border-box;padding-bottom: 0.4em;background-color: white;}#sk-container-id-1 div.sk-label label {font-family: monospace;font-weight: bold;display: inline-block;line-height: 1.2em;}#sk-container-id-1 div.sk-label-container {text-align: center;}#sk-container-id-1 div.sk-container {/* jupyter's `normalize.less` sets `[hidden] { display: none; }` but bootstrap.min.css set `[hidden] { display: none !important; }` so we also need the `!important` here to be able to override the default hidden behavior on the sphinx rendered scikit-learn.org. See: https://github.com/scikit-learn/scikit-learn/issues/21755 */display: inline-block !important;position: relative;}#sk-container-id-1 div.sk-text-repr-fallback {display: none;}</style><div id=\"sk-container-id-1\" class=\"sk-top-container\"><div class=\"sk-text-repr-fallback\"><pre>RandomForestClassifier()</pre><b>In a Jupyter environment, please rerun this cell to show the HTML representation or trust the notebook. <br />On GitHub, the HTML representation is unable to render, please try loading this page with nbviewer.org.</b></div><div class=\"sk-container\" hidden><div class=\"sk-item\"><div class=\"sk-estimator sk-toggleable\"><input class=\"sk-toggleable__control sk-hidden--visually\" id=\"sk-estimator-id-1\" type=\"checkbox\" checked><label for=\"sk-estimator-id-1\" class=\"sk-toggleable__label sk-toggleable__label-arrow\">RandomForestClassifier</label><div class=\"sk-toggleable__content\"><pre>RandomForestClassifier()</pre></div></div></div></div></div>"
      ],
      "text/plain": [
       "RandomForestClassifier()"
      ]
     },
     "execution_count": 12,
     "metadata": {},
     "output_type": "execute_result"
    }
   ],
   "source": [
    "from sklearn.ensemble import RandomForestClassifier\n",
    "model = RandomForestClassifier()\n",
    "model.fit(X_train, y_train)"
   ]
  },
  {
   "cell_type": "code",
   "execution_count": 13,
   "id": "4ccd7314",
   "metadata": {
    "execution": {
     "iopub.execute_input": "2024-07-07T18:59:59.942647Z",
     "iopub.status.busy": "2024-07-07T18:59:59.942181Z",
     "iopub.status.idle": "2024-07-07T18:59:59.964433Z",
     "shell.execute_reply": "2024-07-07T18:59:59.963313Z"
    },
    "papermill": {
     "duration": 0.034429,
     "end_time": "2024-07-07T18:59:59.966815",
     "exception": false,
     "start_time": "2024-07-07T18:59:59.932386",
     "status": "completed"
    },
    "tags": []
   },
   "outputs": [
    {
     "data": {
      "text/plain": [
       "array([0, 2, 2, 0, 2, 0, 0, 0, 2, 2, 0, 0, 0, 0, 1, 1, 0, 0, 0, 1, 2, 1,\n",
       "       1, 1, 2, 1, 2, 0, 1, 1, 1, 1, 1, 1, 1, 1, 0, 1, 0, 0, 1, 2, 2, 2,\n",
       "       2], dtype=int8)"
      ]
     },
     "execution_count": 13,
     "metadata": {},
     "output_type": "execute_result"
    }
   ],
   "source": [
    "predictions = model.predict(X_test)\n",
    "predictions"
   ]
  },
  {
   "cell_type": "code",
   "execution_count": 14,
   "id": "97637d87",
   "metadata": {
    "execution": {
     "iopub.execute_input": "2024-07-07T18:59:59.985248Z",
     "iopub.status.busy": "2024-07-07T18:59:59.984819Z",
     "iopub.status.idle": "2024-07-07T18:59:59.991732Z",
     "shell.execute_reply": "2024-07-07T18:59:59.990565Z"
    },
    "papermill": {
     "duration": 0.019246,
     "end_time": "2024-07-07T18:59:59.994407",
     "exception": false,
     "start_time": "2024-07-07T18:59:59.975161",
     "status": "completed"
    },
    "tags": []
   },
   "outputs": [
    {
     "name": "stdout",
     "output_type": "stream",
     "text": [
      "42     0\n",
      "101    2\n",
      "120    2\n",
      "37     0\n",
      "77     1\n",
      "8      0\n",
      "4      0\n",
      "21     0\n",
      "136    2\n",
      "103    2\n",
      "5      0\n",
      "44     0\n",
      "26     0\n",
      "20     0\n",
      "59     1\n",
      "92     1\n",
      "1      0\n",
      "43     0\n",
      "46     0\n",
      "58     1\n",
      "148    2\n",
      "73     1\n",
      "51     1\n",
      "56     1\n",
      "118    2\n",
      "62     1\n",
      "113    2\n",
      "39     0\n",
      "67     1\n",
      "82     1\n",
      "78     1\n",
      "88     1\n",
      "98     1\n",
      "106    2\n",
      "65     1\n",
      "138    2\n",
      "15     0\n",
      "97     1\n",
      "30     0\n",
      "23     0\n",
      "89     1\n",
      "132    2\n",
      "102    2\n",
      "116    2\n",
      "140    2\n",
      "Name: Species, dtype: int8 [0 2 2 0 2 0 0 0 2 2 0 0 0 0 1 1 0 0 0 1 2 1 1 1 2 1 2 0 1 1 1 1 1 1 1 1 0\n",
      " 1 0 0 1 2 2 2 2]\n"
     ]
    }
   ],
   "source": [
    "print(y_test, predictions)"
   ]
  },
  {
   "cell_type": "code",
   "execution_count": 15,
   "id": "2342c4b8",
   "metadata": {
    "execution": {
     "iopub.execute_input": "2024-07-07T19:00:00.014363Z",
     "iopub.status.busy": "2024-07-07T19:00:00.013932Z",
     "iopub.status.idle": "2024-07-07T19:00:00.023652Z",
     "shell.execute_reply": "2024-07-07T19:00:00.022479Z"
    },
    "papermill": {
     "duration": 0.022836,
     "end_time": "2024-07-07T19:00:00.026244",
     "exception": false,
     "start_time": "2024-07-07T19:00:00.003408",
     "status": "completed"
    },
    "tags": []
   },
   "outputs": [
    {
     "data": {
      "text/plain": [
       "0.9333333333333333"
      ]
     },
     "execution_count": 15,
     "metadata": {},
     "output_type": "execute_result"
    }
   ],
   "source": [
    "from sklearn.metrics import accuracy_score\n",
    "accuracy = accuracy_score(y_test, predictions)\n",
    "accuracy"
   ]
  },
  {
   "cell_type": "code",
   "execution_count": 16,
   "id": "991d66c1",
   "metadata": {
    "execution": {
     "iopub.execute_input": "2024-07-07T19:00:00.045407Z",
     "iopub.status.busy": "2024-07-07T19:00:00.045002Z",
     "iopub.status.idle": "2024-07-07T19:00:00.051131Z",
     "shell.execute_reply": "2024-07-07T19:00:00.049768Z"
    },
    "papermill": {
     "duration": 0.0188,
     "end_time": "2024-07-07T19:00:00.053747",
     "exception": false,
     "start_time": "2024-07-07T19:00:00.034947",
     "status": "completed"
    },
    "tags": []
   },
   "outputs": [],
   "source": [
    "from sklearn.metrics import confusion_matrix\n",
    "y_test_np = np.array(y_test)\n",
    "y_predicted_np = np.array(predictions)"
   ]
  },
  {
   "cell_type": "code",
   "execution_count": 17,
   "id": "d79df0e1",
   "metadata": {
    "execution": {
     "iopub.execute_input": "2024-07-07T19:00:00.073731Z",
     "iopub.status.busy": "2024-07-07T19:00:00.072458Z",
     "iopub.status.idle": "2024-07-07T19:00:00.454826Z",
     "shell.execute_reply": "2024-07-07T19:00:00.453579Z"
    },
    "papermill": {
     "duration": 0.39552,
     "end_time": "2024-07-07T19:00:00.458003",
     "exception": false,
     "start_time": "2024-07-07T19:00:00.062483",
     "status": "completed"
    },
    "tags": []
   },
   "outputs": [
    {
     "data": {
      "image/png": "[encoded data removed]",
      "text/plain": [
       "<Figure size 600x600 with 2 Axes>"
      ]
     },
     "metadata": {},
     "output_type": "display_data"
    }
   ],
   "source": [
    "confusion_matrix = confusion_matrix(y_test, predictions)\n",
    "plt.figure(figsize=(6, 6))\n",
    "sns.heatmap(confusion_matrix, annot=True, cmap=\"Blues\", fmt='g')\n",
    "plt.xlabel('Predicted')\n",
    "plt.ylabel('Actual')\n",
    "plt.title('Confusion Matrix')\n",
    "plt.show()"
   ]
  },
  {
   "cell_type": "code",
   "execution_count": null,
   "id": "3b0905d9",
   "metadata": {
    "papermill": {
     "duration": 0.00875,
     "end_time": "2024-07-07T19:00:00.476674",
     "exception": false,
     "start_time": "2024-07-07T19:00:00.467924",
     "status": "completed"
    },
    "tags": []
   },
   "outputs": [],
   "source": []
  }
 ],
 "metadata": {
  "kaggle": {
   "accelerator": "none",
   "dataSources": [
    {
     "datasetId": 19,
     "sourceId": 420,
     "sourceType": "datasetVersion"
    }
   ],
   "dockerImageVersionId": 30732,
   "isGpuEnabled": false,
   "isInternetEnabled": false,
   "language": "python",
   "sourceType": "notebook"
  },
  "kernelspec": {
   "display_name": "Python 3",
   "language": "python",
   "name": "python3"
  },
  "language_info": {
   "codemirror_mode": {
    "name": "ipython",
    "version": 3
   },
   "file_extension": ".py",
   "mimetype": "text/x-python",
   "name": "python",
   "nbconvert_exporter": "python",
   "pygments_lexer": "ipython3",
   "version": "3.10.13"
  },
  "papermill": {
   "default_parameters": {},
   "duration": 8.090584,
   "end_time": "2024-07-07T19:00:01.209998",
   "environment_variables": {},
   "exception": null,
   "input_path": "__notebook__.ipynb",
   "output_path": "__notebook__.ipynb",
   "parameters": {},
   "start_time": "2024-07-07T18:59:53.119414",
   "version": "2.5.0"
  }
 },
 "nbformat": 4,
 "nbformat_minor": 5
}
